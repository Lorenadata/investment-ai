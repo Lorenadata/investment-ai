{
 "cells": [
  {
   "cell_type": "code",
   "execution_count": 30,
   "metadata": {},
   "outputs": [
    {
     "name": "stderr",
     "output_type": "stream",
     "text": [
      "[*********************100%***********************]  1 of 1 completed"
     ]
    },
    {
     "name": "stdout",
     "output_type": "stream",
     "text": [
      "Datos descargados y guardados en: data\\raw_data\\aapl_full_data.csv\n"
     ]
    },
    {
     "name": "stderr",
     "output_type": "stream",
     "text": [
      "\n"
     ]
    }
   ],
   "source": [
    "import os\n",
    "import pandas as pd\n",
    "import yfinance as yf\n",
    "\n",
    "# Definir rutas de las carpetas\n",
    "data_path = 'data'\n",
    "raw_data_path = os.path.join(data_path, 'raw_data')\n",
    "processed_data_path = os.path.join(data_path, 'processed_data')\n",
    "\n",
    "# Crear carpetas si no existen\n",
    "os.makedirs(raw_data_path, exist_ok=True)\n",
    "os.makedirs(processed_data_path, exist_ok=True)\n",
    "\n",
    "# Descargar y guardar los datos\n",
    "raw_file_path = os.path.join(raw_data_path, 'aapl_full_data.csv')\n",
    "data = yf.download('AAPL', start='2000-01-01', end='2024-10-31')\n",
    "data.to_csv(raw_file_path)\n",
    "print(f\"Datos descargados y guardados en: {raw_file_path}\")\n"
   ]
  },
  {
   "cell_type": "code",
   "execution_count": 26,
   "metadata": {},
   "outputs": [
    {
     "name": "stdout",
     "output_type": "stream",
     "text": [
      "Archivo final con target guardado en: data\\processed_data\\aapl_final_data.csv\n"
     ]
    },
    {
     "name": "stderr",
     "output_type": "stream",
     "text": [
      "C:\\Users\\Usuario\\AppData\\Local\\Temp\\ipykernel_6020\\1145284145.py:9: FutureWarning: The behavior of `series[i:j]` with an integer-dtype index is deprecated. In a future version, this will be treated as *label-based* indexing, consistent with e.g. `series[i]` lookups. To retain the old behavior, use `series.iloc[i:j]`. To get the future behavior, use `series.loc[i:j]`.\n",
      "  macd = ta.macd(df['Close'])\n"
     ]
    }
   ],
   "source": [
    "import pandas_ta as ta\n",
    "\n",
    "# Cargar el archivo descargado\n",
    "df = pd.read_csv(raw_file_path)\n",
    "\n",
    "# Calcular indicadores técnicos\n",
    "df['SMA_50'] = ta.sma(df['Close'], length=50)\n",
    "df['RSI'] = ta.rsi(df['Close'], length=14)\n",
    "macd = ta.macd(df['Close'])\n",
    "df['MACD'] = macd['MACD_12_26_9']\n",
    "df['MACD_signal'] = macd['MACDs_12_26_9']\n",
    "df['MACD_hist'] = macd['MACDh_12_26_9']\n",
    "\n",
    "# Crear la columna 'Target' para indicar subida/bajada del precio\n",
    "df['Target'] = (df['Close'].shift(-1) > df['Close']).astype(int)\n",
    "\n",
    "# Guardar el archivo final con el target\n",
    "final_file_path = os.path.join(processed_data_path, 'aapl_final_data.csv')\n",
    "df.to_csv(final_file_path, index=False)\n",
    "print(f\"Archivo final con target guardado en: {final_file_path}\")\n"
   ]
  }
 ],
 "metadata": {
  "kernelspec": {
   "display_name": "base",
   "language": "python",
   "name": "python3"
  },
  "language_info": {
   "codemirror_mode": {
    "name": "ipython",
    "version": 3
   },
   "file_extension": ".py",
   "mimetype": "text/x-python",
   "name": "python",
   "nbconvert_exporter": "python",
   "pygments_lexer": "ipython3",
   "version": "3.12.4"
  }
 },
 "nbformat": 4,
 "nbformat_minor": 2
}
